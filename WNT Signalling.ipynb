{
 "cells": [
  {
   "cell_type": "code",
   "execution_count": 1,
   "metadata": {},
   "outputs": [],
   "source": [
    "from my_functions import *\n",
    "from neighbour_functions import *\n",
    "from states_functions import *\n",
    "from diffusion import *"
   ]
  },
  {
   "cell_type": "markdown",
   "metadata": {},
   "source": [
    "#### *Description of document*\n",
    "*this document is for trying to make a WNT ring in the outer border. One way of approaching this is letting the WNT be activated only by SMAD+ NOGGIN- cells (red). This way we force it to begin in the edge, since NOGGIN will dominate the center. We assume that at some point we can make the SMAD+ NOGGIN- ring larger, so we just need to focus on making the rules for WNT.*\n",
    "\n",
    "##### ***Rules WNT***\n",
    " - The cell should begin on the edge (red cells with only 3/4 neighbours) (later alternatively only activated by red cells)\n",
    " - The cell should have a self-activation programmed (activates as soon as $SMAD$ has converted one cell.)\n",
    "      - Basically activates as soon as WNT is present. This activation is given in the PDE model by $f(u) = \\frac{s_u u^2}{1+ \\kappa_u u^4}$ meaning that for small values of WNT ($u$) we have an activating effect with $f(u) > 0$ and for bigger values it is degrading $f(u) \\approx 0$"
   ]
  },
  {
   "cell_type": "markdown",
   "metadata": {},
   "source": []
  },
  {
   "cell_type": "code",
   "execution_count": null,
   "metadata": {},
   "outputs": [],
   "source": [
    "def WNT_regulation(u, s_u = 1, kappa_u = 1):\n",
    "    return (s_u * u**2) / (1 + kappa_u * u**4)\n",
    "\n",
    "\n",
    "def WNT_rules(SMAD, NOGGIN, WNT, cell_index, vor, self_activation = 0.1):\n",
    "    \"\"\"A function that should update the WNT value at the given index\n",
    "    \"\"\"\n",
    "    # Get the neighbours of the cell\n",
    "    neighbours = get_nearest_neighbours(vor.ridge_points, cell_index, vor.points)\n",
    "    \n",
    "    ### Activation of WNT ###\n",
    "    # WNT should only activate on the edge which for now is cells at the edge (few neighbours)\n",
    "    # and only red cells should activate WNT\n",
    "    # Further activation could occur via diffusion or excitable media to neighbours\n",
    "    # which then triggers the self-activation\n",
    "    \n",
    "    # If the cell has a red edge cell a neighbour it should activate WNT\n",
    "    for neighbour in neighbours:\n",
    "        if SMAD[neighbour] == 1 and NOGGIN[neighbour] == 0:\n",
    "            WNT[cell_index] = 1\n",
    "            break\n",
    "        \n",
    "        \n",
    "    ### Self-activation of WNT ###\n",
    "    # WNT should self-activate if it is already activated\n",
    "    if WNT[cell_index] < 0:\n",
    "        WNT[cell_index] =+ self_activation\n",
    "\n",
    "\n",
    "    ### Inhibition of WNT ###\n",
    "    # WNT should both activate itself but also inhibit itself dependent on how big the WNT value is\n",
    "    WNT[cell_index] = WNT_regulation(WNT[cell_index])\n",
    "    "
   ]
  },
  {
   "cell_type": "markdown",
   "metadata": {},
   "source": [
    "#### *NODAL*\n",
    "\n",
    "For Nodal we have the following view of its interactions. It should be activated only by WNT. In the movie (S18) the NODAL is initiated through the entire cell, with a really low value. This value increases due to WNT activation everywhere until the threshold value for NODAL given by $v$ exceeds the threshhold, that is $v > v_{th}$. From here it is only a NODAL interaction (or maybe it is dominated by a NODAL interaction where we then can disregard the WNT activation). The NODAL then spreads everywhere except the edge:\n",
    "\n",
    "###### ***Rules NODAL***\n",
    " - NODAL is only activated if we have WNT in our cell. This should increase the value by a fraction of the requirement for converting the cell to NODAL which we classify as being when it is selfactivating $v > v_{th}$\n",
    " - From here it should just keep its current value for NODAL, maybe add some diffusion to other cells\n",
    "\n"
   ]
  },
  {
   "cell_type": "markdown",
   "metadata": {},
   "source": [
    "#### *Lynide*\n",
    "Hvad hvis vi nu converter for WNT kun der hvor der enten kun er røde celler, eller hvor der er SMAD, NOGGIN og WNT celler.\n",
    "For NODAL så laver vi et tjek for  "
   ]
  }
 ],
 "metadata": {
  "kernelspec": {
   "display_name": "base",
   "language": "python",
   "name": "python3"
  },
  "language_info": {
   "codemirror_mode": {
    "name": "ipython",
    "version": 3
   },
   "file_extension": ".py",
   "mimetype": "text/x-python",
   "name": "python",
   "nbconvert_exporter": "python",
   "pygments_lexer": "ipython3",
   "version": "3.9.13"
  }
 },
 "nbformat": 4,
 "nbformat_minor": 2
}
